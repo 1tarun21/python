{
  "nbformat": 4,
  "nbformat_minor": 0,
  "metadata": {
    "colab": {
      "provenance": []
    },
    "kernelspec": {
      "name": "python3",
      "display_name": "Python 3"
    },
    "language_info": {
      "name": "python"
    }
  },
  "cells": [
    {
      "cell_type": "code",
      "execution_count": 1,
      "metadata": {
        "colab": {
          "base_uri": "https://localhost:8080/"
        },
        "id": "eYlmVDztLBA1",
        "outputId": "7284cae1-b089-4999-99b1-99f69f500f37"
      },
      "outputs": [
        {
          "output_type": "stream",
          "name": "stdout",
          "text": [
            "['False', 'None', 'True', 'and', 'as', 'assert', 'async', 'await', 'break', 'class', 'continue', 'def', 'del', 'elif', 'else', 'except', 'finally', 'for', 'from', 'global', 'if', 'import', 'in', 'is', 'lambda', 'nonlocal', 'not', 'or', 'pass', 'raise', 'return', 'try', 'while', 'with', 'yield']\n",
            "35\n"
          ]
        }
      ],
      "source": [
        "import keyword\n",
        "print(keyword.kwlist)\n",
        "a=len(keyword.kwlist)\n",
        "print(a)"
      ]
    },
    {
      "cell_type": "code",
      "source": [
        "#python variables\n",
        "a=50\n",
        "b=50\n",
        "c=a+b\n",
        "print(c)\n"
      ],
      "metadata": {
        "colab": {
          "base_uri": "https://localhost:8080/"
        },
        "id": "bwlwhp_uMH2c",
        "outputId": "ed4892a8-5236-4b23-fa36-28858e878dff"
      },
      "execution_count": 2,
      "outputs": [
        {
          "output_type": "stream",
          "name": "stdout",
          "text": [
            "100\n"
          ]
        }
      ]
    },
    {
      "cell_type": "code",
      "source": [
        "#pyhton data types\n",
        "x = 5\n",
        "print(type(x))\n",
        "y = \"John\"\n",
        "print(type(y))\n",
        "z = 35.4\n",
        "print(type(z))\n"
      ],
      "metadata": {
        "colab": {
          "base_uri": "https://localhost:8080/"
        },
        "id": "CIG-JnFVNOtT",
        "outputId": "31e889df-bf46-4809-cb8f-18192c5c1752"
      },
      "execution_count": 3,
      "outputs": [
        {
          "output_type": "stream",
          "name": "stdout",
          "text": [
            "<class 'int'>\n",
            "<class 'str'>\n",
            "<class 'float'>\n"
          ]
        }
      ]
    },
    {
      "cell_type": "code",
      "source": [
        "#list\n",
        "a=([1,2,3,4,5])\n",
        "b=([2.4,7.0,6.8])\n",
        "c=(['hello','students'])\n",
        "print(a)\n",
        "print(b)\n",
        "print(c)\n"
      ],
      "metadata": {
        "colab": {
          "base_uri": "https://localhost:8080/"
        },
        "id": "HdPcnX_fNrcN",
        "outputId": "5e238821-de40-417e-cc84-ab6508df99f2"
      },
      "execution_count": 4,
      "outputs": [
        {
          "output_type": "stream",
          "name": "stdout",
          "text": [
            "[1, 2, 3, 4, 5]\n",
            "[2.4, 7.0, 6.8]\n",
            "['hello', 'students']\n"
          ]
        }
      ]
    },
    {
      "cell_type": "code",
      "source": [
        "type(a)"
      ],
      "metadata": {
        "colab": {
          "base_uri": "https://localhost:8080/"
        },
        "id": "S9MpGp8QOCo7",
        "outputId": "215a2463-33c3-49fc-e92d-90bbbf528f0b"
      },
      "execution_count": 5,
      "outputs": [
        {
          "output_type": "execute_result",
          "data": {
            "text/plain": [
              "list"
            ]
          },
          "metadata": {},
          "execution_count": 5
        }
      ]
    },
    {
      "cell_type": "code",
      "source": [
        "#create list using range function:\n",
        "L=list(range(0,6))\n",
        "print(L)"
      ],
      "metadata": {
        "colab": {
          "base_uri": "https://localhost:8080/"
        },
        "id": "enFNZUfYOHEE",
        "outputId": "25534381-325b-4352-9583-d78e23172214"
      },
      "execution_count": null,
      "outputs": [
        {
          "output_type": "stream",
          "name": "stdout",
          "text": [
            "[0, 1, 2, 3, 4, 5]\n"
          ]
        }
      ]
    },
    {
      "cell_type": "code",
      "source": [
        "#creating a list without constructor():\n",
        "days=['monday','tuesday','wednesday','thursday','friday','saturday','sunday']\n",
        "days"
      ],
      "metadata": {
        "colab": {
          "base_uri": "https://localhost:8080/"
        },
        "id": "BfTGFdsQOPRU",
        "outputId": "808481a8-1456-46ef-ba12-8d0288c4555c"
      },
      "execution_count": 6,
      "outputs": [
        {
          "output_type": "execute_result",
          "data": {
            "text/plain": [
              "['monday', 'tuesday', 'wednesday', 'thursday', 'friday', 'saturday', 'sunday']"
            ]
          },
          "metadata": {},
          "execution_count": 6
        }
      ]
    },
    {
      "cell_type": "code",
      "source": [
        "days[1]"
      ],
      "metadata": {
        "colab": {
          "base_uri": "https://localhost:8080/",
          "height": 35
        },
        "id": "fb1F885VOqiz",
        "outputId": "14c2d2cb-ad99-40b8-e6a8-28ba616538b4"
      },
      "execution_count": 7,
      "outputs": [
        {
          "output_type": "execute_result",
          "data": {
            "text/plain": [
              "'tuesday'"
            ],
            "application/vnd.google.colaboratory.intrinsic+json": {
              "type": "string"
            }
          },
          "metadata": {},
          "execution_count": 7
        }
      ]
    },
    {
      "cell_type": "code",
      "source": [
        "#list slicing:\n",
        "days[1:4]"
      ],
      "metadata": {
        "colab": {
          "base_uri": "https://localhost:8080/"
        },
        "id": "5zDZNE2_Ot4D",
        "outputId": "8728fc99-8955-4e82-a119-8f51c79ab12d"
      },
      "execution_count": 8,
      "outputs": [
        {
          "output_type": "execute_result",
          "data": {
            "text/plain": [
              "['tuesday', 'wednesday', 'thursday']"
            ]
          },
          "metadata": {},
          "execution_count": 8
        }
      ]
    },
    {
      "cell_type": "code",
      "source": [
        "#list slicing with step size:\n",
        "days=['monday','tuesday','wednesday','thursday','friday','saturday','sunday']\n",
        "days[1:4:2]\n"
      ],
      "metadata": {
        "colab": {
          "base_uri": "https://localhost:8080/"
        },
        "id": "3o0EFYOyO2AM",
        "outputId": "7dcbf159-6603-4f34-95e4-d9de4736f50d"
      },
      "execution_count": 9,
      "outputs": [
        {
          "output_type": "execute_result",
          "data": {
            "text/plain": [
              "['tuesday', 'thursday']"
            ]
          },
          "metadata": {},
          "execution_count": 9
        }
      ]
    },
    {
      "cell_type": "code",
      "source": [
        "#len() function\n",
        "len(days)\n"
      ],
      "metadata": {
        "colab": {
          "base_uri": "https://localhost:8080/"
        },
        "id": "NhOeS084O56z",
        "outputId": "f83f1843-0f0c-4f1b-dfe7-0f38501bfc64"
      },
      "execution_count": 10,
      "outputs": [
        {
          "output_type": "execute_result",
          "data": {
            "text/plain": [
              "7"
            ]
          },
          "metadata": {},
          "execution_count": 10
        }
      ]
    },
    {
      "cell_type": "code",
      "source": [
        "#max() function\n",
        "numbers=[1,2,3,4,5,6,7,8]\n",
        "max(numbers)"
      ],
      "metadata": {
        "colab": {
          "base_uri": "https://localhost:8080/"
        },
        "id": "A1XngoVUPEnb",
        "outputId": "85252141-cabe-40ba-b98f-918c2e99701b"
      },
      "execution_count": 11,
      "outputs": [
        {
          "output_type": "execute_result",
          "data": {
            "text/plain": [
              "8"
            ]
          },
          "metadata": {},
          "execution_count": 11
        }
      ]
    },
    {
      "cell_type": "code",
      "source": [
        "#min function\n",
        "min(numbers)"
      ],
      "metadata": {
        "colab": {
          "base_uri": "https://localhost:8080/"
        },
        "id": "CGOmFqOiPOjL",
        "outputId": "d6ec2768-c861-420a-bea1-bc97193450cd"
      },
      "execution_count": 12,
      "outputs": [
        {
          "output_type": "execute_result",
          "data": {
            "text/plain": [
              "1"
            ]
          },
          "metadata": {},
          "execution_count": 12
        }
      ]
    },
    {
      "cell_type": "code",
      "source": [
        "#sun() function\n",
        "sum(numbers)"
      ],
      "metadata": {
        "colab": {
          "base_uri": "https://localhost:8080/"
        },
        "id": "OB5GobiOPTCr",
        "outputId": "67ccf302-9d86-44be-dcbe-7e4159969b19"
      },
      "execution_count": 14,
      "outputs": [
        {
          "output_type": "execute_result",
          "data": {
            "text/plain": [
              "36"
            ]
          },
          "metadata": {},
          "execution_count": 14
        }
      ]
    },
    {
      "cell_type": "code",
      "source": [
        "import random\n",
        "numbers=[1,2,3,4,5,6,7,8]\n",
        "random.shuffle(numbers)\n",
        "print(numbers)"
      ],
      "metadata": {
        "colab": {
          "base_uri": "https://localhost:8080/"
        },
        "id": "0sYEKw-9Pcwr",
        "outputId": "12e02974-42f5-43f5-8b26-43d53045affc"
      },
      "execution_count": 15,
      "outputs": [
        {
          "output_type": "stream",
          "name": "stdout",
          "text": [
            "[8, 7, 6, 3, 5, 1, 4, 2]\n"
          ]
        }
      ]
    },
    {
      "cell_type": "code",
      "source": [
        "#examples on operator:\n",
        "a=[1,2,3]\n",
        "b=[4,5,6]\n",
        "c=a+b\n",
        "print(c)\n"
      ],
      "metadata": {
        "colab": {
          "base_uri": "https://localhost:8080/"
        },
        "id": "wFJ0DyMcP7bE",
        "outputId": "beecd4a5-412a-474d-cb9c-ae9be83eda65"
      },
      "execution_count": 16,
      "outputs": [
        {
          "output_type": "stream",
          "name": "stdout",
          "text": [
            "[1, 2, 3, 4, 5, 6]\n"
          ]
        }
      ]
    },
    {
      "cell_type": "code",
      "source": [
        "a=[10,20]\n",
        "b=3*a\n",
        "print(b)"
      ],
      "metadata": {
        "colab": {
          "base_uri": "https://localhost:8080/"
        },
        "id": "ibp15OzYRb1T",
        "outputId": "5e6df74a-f94d-41cc-c328-0403f22171f4"
      },
      "execution_count": 17,
      "outputs": [
        {
          "output_type": "stream",
          "name": "stdout",
          "text": [
            "[10, 20, 10, 20, 10, 20]\n"
          ]
        }
      ]
    },
    {
      "cell_type": "code",
      "source": [
        "days=['monday','tuesday','wednesday','thursday','friday','saturday','sunday']\n",
        "'wednesday' in days"
      ],
      "metadata": {
        "colab": {
          "base_uri": "https://localhost:8080/"
        },
        "id": "tBE8cAUxRel7",
        "outputId": "b0696879-170d-479e-c543-31dfd65bdfaf"
      },
      "execution_count": 18,
      "outputs": [
        {
          "output_type": "execute_result",
          "data": {
            "text/plain": [
              "True"
            ]
          },
          "metadata": {},
          "execution_count": 18
        }
      ]
    },
    {
      "cell_type": "code",
      "source": [
        "days=['monday','tuesday','wednesday','thursday','friday','saturday','sunday']\n",
        "'wednesday' not in days"
      ],
      "metadata": {
        "colab": {
          "base_uri": "https://localhost:8080/"
        },
        "id": "NJnLkEE-RhL7",
        "outputId": "f5f03419-12fd-4257-9187-f5623121d78d"
      },
      "execution_count": 19,
      "outputs": [
        {
          "output_type": "execute_result",
          "data": {
            "text/plain": [
              "False"
            ]
          },
          "metadata": {},
          "execution_count": 19
        }
      ]
    },
    {
      "cell_type": "code",
      "source": [
        "a='Arshiya'\n",
        "b='Arshiya'\n",
        "a is b\n"
      ],
      "metadata": {
        "colab": {
          "base_uri": "https://localhost:8080/"
        },
        "id": "G5eJbQFaRprr",
        "outputId": "1c5a0c10-ad2f-451a-8f58-a133410ab22c"
      },
      "execution_count": 20,
      "outputs": [
        {
          "output_type": "execute_result",
          "data": {
            "text/plain": [
              "True"
            ]
          },
          "metadata": {},
          "execution_count": 20
        }
      ]
    },
    {
      "cell_type": "code",
      "source": [
        "a='Arshiya'\n",
        "b='Lubna'\n",
        "a is b\n"
      ],
      "metadata": {
        "colab": {
          "base_uri": "https://localhost:8080/"
        },
        "id": "mftvBZkbRqxE",
        "outputId": "fac140ae-20a2-4470-eaa3-9d668519c78f"
      },
      "execution_count": 21,
      "outputs": [
        {
          "output_type": "execute_result",
          "data": {
            "text/plain": [
              "False"
            ]
          },
          "metadata": {},
          "execution_count": 21
        }
      ]
    },
    {
      "cell_type": "code",
      "source": [
        "#list methods\n",
        "a=['a','b','c','d']\n",
        "print(a)\n",
        "a.append('e')\n",
        "print(a)\n"
      ],
      "metadata": {
        "colab": {
          "base_uri": "https://localhost:8080/"
        },
        "id": "NAgjC5F4Rtaz",
        "outputId": "4eefdd68-4625-4327-8f58-014e5f0349c8"
      },
      "execution_count": 22,
      "outputs": [
        {
          "output_type": "stream",
          "name": "stdout",
          "text": [
            "['a', 'b', 'c', 'd']\n",
            "['a', 'b', 'c', 'd', 'e']\n"
          ]
        }
      ]
    },
    {
      "cell_type": "code",
      "source": [
        "list=['red','orange','pink','black']\n",
        "print(list)\n",
        "list.clear()\n",
        "print(list)"
      ],
      "metadata": {
        "colab": {
          "base_uri": "https://localhost:8080/"
        },
        "id": "W_c3AoX7RzOj",
        "outputId": "db241b45-7b60-418d-9c6e-bcb2ebe40b13"
      },
      "execution_count": 23,
      "outputs": [
        {
          "output_type": "stream",
          "name": "stdout",
          "text": [
            "['red', 'orange', 'pink', 'black']\n",
            "[]\n"
          ]
        }
      ]
    },
    {
      "cell_type": "code",
      "source": [
        "nums=[1,2,3,4,1,4,1,7,8,1]\n",
        "print(nums)\n",
        "nums.count(1)"
      ],
      "metadata": {
        "colab": {
          "base_uri": "https://localhost:8080/"
        },
        "id": "12Y_XLuAR01r",
        "outputId": "546e053f-08cb-40cb-c745-c058d21f854b"
      },
      "execution_count": 24,
      "outputs": [
        {
          "output_type": "stream",
          "name": "stdout",
          "text": [
            "[1, 2, 3, 4, 1, 4, 1, 7, 8, 1]\n"
          ]
        },
        {
          "output_type": "execute_result",
          "data": {
            "text/plain": [
              "4"
            ]
          },
          "metadata": {},
          "execution_count": 24
        }
      ]
    },
    {
      "cell_type": "code",
      "source": [
        "list_1=[1,2,3,4]\n",
        "print(list_1)\n",
        "list_2=list_1.copy()\n",
        "print(list_2)"
      ],
      "metadata": {
        "colab": {
          "base_uri": "https://localhost:8080/"
        },
        "id": "E0odiThSR3Xb",
        "outputId": "d01f6dfe-1a91-4427-b3f3-07ff27bec763"
      },
      "execution_count": 25,
      "outputs": [
        {
          "output_type": "stream",
          "name": "stdout",
          "text": [
            "[1, 2, 3, 4]\n",
            "[1, 2, 3, 4]\n"
          ]
        }
      ]
    },
    {
      "cell_type": "code",
      "source": [
        "A=[1,3,2,4,5]\n",
        "B=[5,6,7,3,6]\n",
        "print(A)\n",
        "print(B)\n",
        "A.extend(B)\n",
        "print(A)\n"
      ],
      "metadata": {
        "colab": {
          "base_uri": "https://localhost:8080/"
        },
        "id": "vA42d7ZXR4qk",
        "outputId": "750bb206-8272-435c-f0a2-90c30795e4d6"
      },
      "execution_count": 26,
      "outputs": [
        {
          "output_type": "stream",
          "name": "stdout",
          "text": [
            "[1, 3, 2, 4, 5]\n",
            "[5, 6, 7, 3, 6]\n",
            "[1, 3, 2, 4, 5, 5, 6, 7, 3, 6]\n"
          ]
        }
      ]
    },
    {
      "cell_type": "code",
      "source": [
        "#create a dictionary\n",
        "a={\n",
        "'name':'joy',\n",
        "'age':23,\n",
        "'education':'Engineer'\n",
        "}\n",
        "print(a)"
      ],
      "metadata": {
        "colab": {
          "base_uri": "https://localhost:8080/"
        },
        "id": "9dCDrKTCR7ML",
        "outputId": "eeb82c42-8999-41ce-e002-644fdba93288"
      },
      "execution_count": 27,
      "outputs": [
        {
          "output_type": "stream",
          "name": "stdout",
          "text": [
            "{'name': 'joy', 'age': 23, 'education': 'Engineer'}\n"
          ]
        }
      ]
    },
    {
      "cell_type": "code",
      "source": [
        "len(a)\n",
        "\n"
      ],
      "metadata": {
        "colab": {
          "base_uri": "https://localhost:8080/"
        },
        "id": "GD5Fkz3hVMqK",
        "outputId": "d8b0b8c0-e2ae-4711-f8f8-b34acc5f2395"
      },
      "execution_count": 28,
      "outputs": [
        {
          "output_type": "execute_result",
          "data": {
            "text/plain": [
              "3"
            ]
          },
          "metadata": {},
          "execution_count": 28
        }
      ]
    },
    {
      "cell_type": "code",
      "source": [
        "type(a)\n"
      ],
      "metadata": {
        "colab": {
          "base_uri": "https://localhost:8080/"
        },
        "id": "6QTMI5GdVRJy",
        "outputId": "46fc6843-f890-4a3e-faab-9932ff005424"
      },
      "execution_count": 29,
      "outputs": [
        {
          "output_type": "execute_result",
          "data": {
            "text/plain": [
              "dict"
            ]
          },
          "metadata": {},
          "execution_count": 29
        }
      ]
    },
    {
      "cell_type": "code",
      "source": [
        "x=a.keys()\n",
        "x"
      ],
      "metadata": {
        "colab": {
          "base_uri": "https://localhost:8080/"
        },
        "id": "TdrrvlsjVT4y",
        "outputId": "6eace5a6-eb74-43ab-9091-8d0a42e0963d"
      },
      "execution_count": 30,
      "outputs": [
        {
          "output_type": "execute_result",
          "data": {
            "text/plain": [
              "dict_keys(['name', 'age', 'education'])"
            ]
          },
          "metadata": {},
          "execution_count": 30
        }
      ]
    },
    {
      "cell_type": "code",
      "source": [
        "y=a.values()\n"
      ],
      "metadata": {
        "id": "sLclCl-UVWSq"
      },
      "execution_count": 31,
      "outputs": []
    },
    {
      "cell_type": "code",
      "source": [
        "z=a.items()\n"
      ],
      "metadata": {
        "id": "eF2rtm2LVY_b"
      },
      "execution_count": 33,
      "outputs": []
    },
    {
      "cell_type": "code",
      "source": [
        "#Sets\n",
        "set1={1,2,3,4}\n",
        "print(set1)"
      ],
      "metadata": {
        "colab": {
          "base_uri": "https://localhost:8080/"
        },
        "id": "YuoxfHZbWrYj",
        "outputId": "c4e3925e-ec52-4f18-eb7f-94cd01b9aa23"
      },
      "execution_count": 34,
      "outputs": [
        {
          "output_type": "stream",
          "name": "stdout",
          "text": [
            "{1, 2, 3, 4}\n"
          ]
        }
      ]
    },
    {
      "cell_type": "code",
      "source": [
        "#duplicates not allowed\n",
        "set={1,2,3,4,5,6,7,1,1}\n",
        "set\n"
      ],
      "metadata": {
        "colab": {
          "base_uri": "https://localhost:8080/"
        },
        "id": "79QcW_8LZ55q",
        "outputId": "3f4015c8-e6cb-4417-f235-1a5a6cd6f8ed"
      },
      "execution_count": 35,
      "outputs": [
        {
          "output_type": "execute_result",
          "data": {
            "text/plain": [
              "{1, 2, 3, 4, 5, 6, 7}"
            ]
          },
          "metadata": {},
          "execution_count": 35
        }
      ]
    },
    {
      "cell_type": "code",
      "source": [
        "type(set)"
      ],
      "metadata": {
        "colab": {
          "base_uri": "https://localhost:8080/"
        },
        "id": "5G3dwjNcZ9cC",
        "outputId": "53133561-cadb-4e9b-97c7-59e16831ec8e"
      },
      "execution_count": null,
      "outputs": [
        {
          "output_type": "execute_result",
          "data": {
            "text/plain": [
              "set"
            ]
          },
          "metadata": {},
          "execution_count": 41
        }
      ]
    },
    {
      "cell_type": "code",
      "source": [
        "def add():\n",
        "  a=2\n",
        "  b=3\n",
        "  sum=a+b\n",
        "  return sum\n",
        "add()\n",
        "print(add())\n"
      ],
      "metadata": {
        "colab": {
          "base_uri": "https://localhost:8080/"
        },
        "id": "asmc__mJaBbb",
        "outputId": "3461cb73-808a-4d60-f812-9d3a4d6b951c"
      },
      "execution_count": 36,
      "outputs": [
        {
          "output_type": "stream",
          "name": "stdout",
          "text": [
            "5\n"
          ]
        }
      ]
    },
    {
      "cell_type": "code",
      "source": [
        "print(\"This is a built-in function example.\")\n",
        "numbers = [1, 2, 3, 4, 5]\n",
        "print(\"Sum of numbers:\", sum(numbers))\n",
        "\n",
        "def square(number):\n",
        "    return number * number\n",
        "num = 6\n",
        "print(f\"The square of {num} is:\", square(num))\n",
        "multiply = lambda x, y: x * y\n",
        "a = 3\n",
        "b = 4\n",
        "print(f\"The product of {a} and {b} is:\", multiply(a, b))\n"
      ],
      "metadata": {
        "colab": {
          "base_uri": "https://localhost:8080/"
        },
        "id": "tThCRlMPn0Rp",
        "outputId": "76b9c895-a9ea-4572-94e4-af2a1c58f042"
      },
      "execution_count": 37,
      "outputs": [
        {
          "output_type": "stream",
          "name": "stdout",
          "text": [
            "This is a built-in function example.\n",
            "Sum of numbers: 15\n",
            "The square of 6 is: 36\n",
            "The product of 3 and 4 is: 12\n"
          ]
        }
      ]
    }
  ]
}